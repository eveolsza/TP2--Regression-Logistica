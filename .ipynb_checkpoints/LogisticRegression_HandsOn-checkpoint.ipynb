{
 "cells": [
  {
   "cell_type": "markdown",
   "id": "701de391",
   "metadata": {},
   "source": [
    "# Logistic Regression\n",
    "\n",
    "En esta notebook vamos a analizar el caso propuesto en la página 146 del Hands-On"
   ]
  },
  {
   "cell_type": "markdown",
   "id": "5cc1d4ec",
   "metadata": {},
   "source": [
    "La Regresión logística es comunmente utilizada ára estimar la probabilidad a posteriori de que una instancia pertenezca a una clase en particular"
   ]
  },
  {
   "cell_type": "markdown",
   "id": "290a96b4",
   "metadata": {},
   "source": [
    "## Estimando probabilidades\n",
    "\n",
    "Funciona de la misma manera de un modelo de regresión lineal. La Regresión logística calcula la suma pesada de las características de entrada, más el termino de regularización, y como _output_ contiene el resultado de aplicar la función logística.\n",
    "\n",
    "$$ \\hat{p} = h_{\\theta}(x)=\\sigma (x^{T} \\theta)$$\n",
    "\n",
    "Donde la función sigmoide está definida de la siguiente manera\n",
    "$$\\sigma (t) = \\frac{1}{1+ \\mathrm{e}^{-t}}$$"
   ]
  },
  {
   "cell_type": "markdown",
   "id": "d22e0b0e",
   "metadata": {},
   "source": [
    "Una vez que el modelo de regresión logística estimó la probabilidad de $\\hat{p}$"
   ]
  },
  {
   "cell_type": "code",
   "execution_count": 1,
   "id": "501dbaf8",
   "metadata": {},
   "outputs": [],
   "source": [
    "from sklearn import datasets\n",
    "import sklearn\n",
    "from sklearn.model_selection import GridSearchCV, train_test_split\n",
    "from sklearn.model_selection import (TimeSeriesSplit, KFold, ShuffleSplit,\n",
    "StratifiedKFold, GroupShuffleSplit,\n",
    "GroupKFold, StratifiedShuffleSplit,cross_val_score)\n",
    "from sklearn.linear_model import (LogisticRegression,LogisticRegressionCV)\n",
    "import numpy as np\n",
    "from matplotlib import pyplot as plt\n",
    "from scipy import stats\n",
    "import seaborn as sns\n",
    "import pandas as pd\n",
    "from sklearn.metrics import plot_confusion_matrix"
   ]
  },
  {
   "cell_type": "code",
   "execution_count": 2,
   "id": "4a746186",
   "metadata": {},
   "outputs": [
    {
     "data": {
      "text/plain": [
       "['data', 'target', 'target_names', 'DESCR', 'feature_names', 'filename']"
      ]
     },
     "execution_count": 2,
     "metadata": {},
     "output_type": "execute_result"
    }
   ],
   "source": [
    "iris = datasets.load_iris()\n",
    "list(iris.keys())\n",
    "['data', 'target', 'target_names', 'DESCR', 'feature_names', 'filename']"
   ]
  },
  {
   "cell_type": "code",
   "execution_count": 3,
   "id": "1431489b",
   "metadata": {},
   "outputs": [
    {
     "data": {
      "text/plain": [
       "{0: 50, 1: 50, 2: 50}"
      ]
     },
     "execution_count": 3,
     "metadata": {},
     "output_type": "execute_result"
    }
   ],
   "source": [
    "unique, counts = np.unique(iris[\"target\"], return_counts=True)\n",
    "dict(zip(unique, counts))"
   ]
  },
  {
   "cell_type": "markdown",
   "id": "e5922f78",
   "metadata": {},
   "source": [
    "Transformamos el dataset Iris a un dataframe para facilitar su manipulación"
   ]
  },
  {
   "cell_type": "code",
   "execution_count": 4,
   "id": "e3c57baa",
   "metadata": {},
   "outputs": [
    {
     "data": {
      "text/html": [
       "<div>\n",
       "<style scoped>\n",
       "    .dataframe tbody tr th:only-of-type {\n",
       "        vertical-align: middle;\n",
       "    }\n",
       "\n",
       "    .dataframe tbody tr th {\n",
       "        vertical-align: top;\n",
       "    }\n",
       "\n",
       "    .dataframe thead th {\n",
       "        text-align: right;\n",
       "    }\n",
       "</style>\n",
       "<table border=\"1\" class=\"dataframe\">\n",
       "  <thead>\n",
       "    <tr style=\"text-align: right;\">\n",
       "      <th></th>\n",
       "      <th>sepal_length</th>\n",
       "      <th>sepal_width</th>\n",
       "      <th>petal_length</th>\n",
       "      <th>petal_width</th>\n",
       "      <th>species</th>\n",
       "    </tr>\n",
       "  </thead>\n",
       "  <tbody>\n",
       "    <tr>\n",
       "      <th>0</th>\n",
       "      <td>5.1</td>\n",
       "      <td>3.5</td>\n",
       "      <td>1.4</td>\n",
       "      <td>0.2</td>\n",
       "      <td>setosa</td>\n",
       "    </tr>\n",
       "    <tr>\n",
       "      <th>1</th>\n",
       "      <td>4.9</td>\n",
       "      <td>3.0</td>\n",
       "      <td>1.4</td>\n",
       "      <td>0.2</td>\n",
       "      <td>setosa</td>\n",
       "    </tr>\n",
       "    <tr>\n",
       "      <th>2</th>\n",
       "      <td>4.7</td>\n",
       "      <td>3.2</td>\n",
       "      <td>1.3</td>\n",
       "      <td>0.2</td>\n",
       "      <td>setosa</td>\n",
       "    </tr>\n",
       "    <tr>\n",
       "      <th>3</th>\n",
       "      <td>4.6</td>\n",
       "      <td>3.1</td>\n",
       "      <td>1.5</td>\n",
       "      <td>0.2</td>\n",
       "      <td>setosa</td>\n",
       "    </tr>\n",
       "    <tr>\n",
       "      <th>4</th>\n",
       "      <td>5.0</td>\n",
       "      <td>3.6</td>\n",
       "      <td>1.4</td>\n",
       "      <td>0.2</td>\n",
       "      <td>setosa</td>\n",
       "    </tr>\n",
       "    <tr>\n",
       "      <th>...</th>\n",
       "      <td>...</td>\n",
       "      <td>...</td>\n",
       "      <td>...</td>\n",
       "      <td>...</td>\n",
       "      <td>...</td>\n",
       "    </tr>\n",
       "    <tr>\n",
       "      <th>145</th>\n",
       "      <td>6.7</td>\n",
       "      <td>3.0</td>\n",
       "      <td>5.2</td>\n",
       "      <td>2.3</td>\n",
       "      <td>virginica</td>\n",
       "    </tr>\n",
       "    <tr>\n",
       "      <th>146</th>\n",
       "      <td>6.3</td>\n",
       "      <td>2.5</td>\n",
       "      <td>5.0</td>\n",
       "      <td>1.9</td>\n",
       "      <td>virginica</td>\n",
       "    </tr>\n",
       "    <tr>\n",
       "      <th>147</th>\n",
       "      <td>6.5</td>\n",
       "      <td>3.0</td>\n",
       "      <td>5.2</td>\n",
       "      <td>2.0</td>\n",
       "      <td>virginica</td>\n",
       "    </tr>\n",
       "    <tr>\n",
       "      <th>148</th>\n",
       "      <td>6.2</td>\n",
       "      <td>3.4</td>\n",
       "      <td>5.4</td>\n",
       "      <td>2.3</td>\n",
       "      <td>virginica</td>\n",
       "    </tr>\n",
       "    <tr>\n",
       "      <th>149</th>\n",
       "      <td>5.9</td>\n",
       "      <td>3.0</td>\n",
       "      <td>5.1</td>\n",
       "      <td>1.8</td>\n",
       "      <td>virginica</td>\n",
       "    </tr>\n",
       "  </tbody>\n",
       "</table>\n",
       "<p>150 rows × 5 columns</p>\n",
       "</div>"
      ],
      "text/plain": [
       "     sepal_length  sepal_width  petal_length  petal_width    species\n",
       "0             5.1          3.5           1.4          0.2     setosa\n",
       "1             4.9          3.0           1.4          0.2     setosa\n",
       "2             4.7          3.2           1.3          0.2     setosa\n",
       "3             4.6          3.1           1.5          0.2     setosa\n",
       "4             5.0          3.6           1.4          0.2     setosa\n",
       "..            ...          ...           ...          ...        ...\n",
       "145           6.7          3.0           5.2          2.3  virginica\n",
       "146           6.3          2.5           5.0          1.9  virginica\n",
       "147           6.5          3.0           5.2          2.0  virginica\n",
       "148           6.2          3.4           5.4          2.3  virginica\n",
       "149           5.9          3.0           5.1          1.8  virginica\n",
       "\n",
       "[150 rows x 5 columns]"
      ]
     },
     "execution_count": 4,
     "metadata": {},
     "output_type": "execute_result"
    }
   ],
   "source": [
    "features = ['sepal_length', 'sepal_width', 'petal_length', 'petal_width']\n",
    "iris_df = pd.DataFrame(iris['data'], columns=features)\n",
    "iris_df['species'] = iris[\"target\"]\n",
    "iris_df['species'] = iris_df['species'].map({0: \"setosa\", 1: \"versicolor\", 2: \"virginica\"})\n",
    "iris_df"
   ]
  },
  {
   "cell_type": "code",
   "execution_count": 5,
   "id": "3490d94d",
   "metadata": {},
   "outputs": [
    {
     "data": {
      "image/png": "[encoded data removed]",
      "text/plain": [
       "<Figure size 1800x360 with 4 Axes>"
      ]
     },
     "metadata": {
      "needs_background": "light"
     },
     "output_type": "display_data"
    }
   ],
   "source": [
    "fig, axes = plt.subplots(1, 4, figsize=(25,5))\n",
    "for i in range(4):\n",
    "   sns.violinplot(x='species',y=features[i], data=iris_df, palette='pastel',ax=axes[i])"
   ]
  },
  {
   "cell_type": "markdown",
   "id": "47d2133a",
   "metadata": {},
   "source": [
    "## [**Regresion logística**](https://scikit-learn.org/stable/modules/generated/sklearn.linear_model.LogisticRegression.html)"
   ]
  },
  {
   "cell_type": "code",
   "execution_count": 6,
   "id": "e82b0cc8",
   "metadata": {},
   "outputs": [
    {
     "data": {
      "text/plain": [
       "LogisticRegression()"
      ]
     },
     "execution_count": 6,
     "metadata": {},
     "output_type": "execute_result"
    }
   ],
   "source": [
    "#Modelo de regresion logística entrenado sobre uno de los atributos (petal width en este caso)\n",
    "X = iris[\"data\"][:, 3:] # petal width\n",
    "y = (iris[\"target\"] == 2).astype(np.int64) # 1 if Iris virginica, else 0\n",
    "log_reg = LogisticRegression()\n",
    "log_reg.fit(X, y)"
   ]
  },
  {
   "cell_type": "markdown",
   "id": "5497d897",
   "metadata": {},
   "source": [
    "## Fronteras de decisión establecidas por el modelo\n",
    "\n",
    "A continuación presentamos un gráfico que incluye las fronteras de decision establecida por las densidades probabilisticas"
   ]
  },
  {
   "cell_type": "code",
   "execution_count": 7,
   "id": "36f2ed1d",
   "metadata": {},
   "outputs": [
    {
     "data": {
      "text/plain": [
       "[<matplotlib.lines.Line2D at 0x7fdbefdb75b0>]"
      ]
     },
     "execution_count": 7,
     "metadata": {},
     "output_type": "execute_result"
    },
    {
     "data": {
      "image/png": "[encoded data removed]",
      "text/plain": [
       "<Figure size 432x288 with 1 Axes>"
      ]
     },
     "metadata": {
      "needs_background": "light"
     },
     "output_type": "display_data"
    }
   ],
   "source": [
    "X_new = np.linspace(0, 3, 1000).reshape(-1, 1)\n",
    "y_proba = log_reg.predict_proba(X_new)\n",
    "plt.plot(X_new, y_proba[:, 1], \"g-\", label=\"Iris virginica\")\n",
    "plt.plot(X_new, y_proba[:, 0], \"b--\", label=\"Not Iris virginica\")\n"
   ]
  },
  {
   "cell_type": "code",
   "execution_count": 8,
   "id": "345e0684",
   "metadata": {},
   "outputs": [
    {
     "data": {
      "text/plain": [
       "array([[0.45722097, 0.54277903],\n",
       "       [0.66709636, 0.33290364]])"
      ]
     },
     "execution_count": 8,
     "metadata": {},
     "output_type": "execute_result"
    }
   ],
   "source": [
    "log_reg.predict_proba([[1.7], [1.5]]) #-> te da las medidas de probabilidad acordes a cada clase"
   ]
  },
  {
   "cell_type": "markdown",
   "id": "5f11ed60",
   "metadata": {},
   "source": [
    "### Regresión logística multiclases con las 4 variables\n",
    "\n",
    "A continuación vamos a utilizar Softmax regression para realizar la predicción considerando cada tipo de planta"
   ]
  },
  {
   "cell_type": "code",
   "execution_count": 9,
   "id": "cbdce831",
   "metadata": {},
   "outputs": [
    {
     "data": {
      "text/plain": [
       "LogisticRegression(C=10, max_iter=145, multi_class='multinomial')"
      ]
     },
     "execution_count": 9,
     "metadata": {},
     "output_type": "execute_result"
    }
   ],
   "source": [
    "X = iris[\"data\"] # las 4 variables\n",
    "y = iris[\"target\"]\n",
    "softmax_reg = LogisticRegression(multi_class=\"multinomial\",solver=\"lbfgs\", \n",
    "                                 C=10, max_iter=145)\n",
    "softmax_reg.fit(X, y)"
   ]
  },
  {
   "cell_type": "code",
   "execution_count": 10,
   "id": "bc9a62e8",
   "metadata": {},
   "outputs": [
    {
     "data": {
      "text/plain": [
       "array([0])"
      ]
     },
     "execution_count": 10,
     "metadata": {},
     "output_type": "execute_result"
    }
   ],
   "source": [
    "softmax_reg.predict([[5, 2, 1, 3]])"
   ]
  },
  {
   "cell_type": "markdown",
   "id": "0637655d",
   "metadata": {},
   "source": [
    "# Dividimos el dataset en train y test de forma estratificada"
   ]
  },
  {
   "cell_type": "code",
   "execution_count": 11,
   "id": "557ccb13",
   "metadata": {},
   "outputs": [],
   "source": [
    "split = StratifiedShuffleSplit(n_splits=1, test_size=0.2, random_state=42)\n",
    "for train_index, test_index in split.split(iris_df, iris_df[\"species\"]):\n",
    "    strat_train_set = iris_df.loc[train_index]\n",
    "    strat_test_set = iris_df.loc[test_index]"
   ]
  },
  {
   "cell_type": "code",
   "execution_count": 12,
   "id": "a29910ed",
   "metadata": {},
   "outputs": [
    {
     "data": {
      "text/plain": [
       "virginica     40\n",
       "setosa        40\n",
       "versicolor    40\n",
       "Name: species, dtype: int64"
      ]
     },
     "execution_count": 12,
     "metadata": {},
     "output_type": "execute_result"
    }
   ],
   "source": [
    "train = strat_train_set.drop(\"species\", axis=1)\n",
    "train_labels = strat_train_set[\"species\"]\n",
    "\n",
    "strat_train_set['species'].value_counts()"
   ]
  },
  {
   "cell_type": "code",
   "execution_count": 13,
   "id": "4e3aa1e2",
   "metadata": {},
   "outputs": [
    {
     "data": {
      "text/plain": [
       "virginica     10\n",
       "setosa        10\n",
       "versicolor    10\n",
       "Name: species, dtype: int64"
      ]
     },
     "execution_count": 13,
     "metadata": {},
     "output_type": "execute_result"
    }
   ],
   "source": [
    "test = strat_test_set.drop(\"species\", axis=1)\n",
    "test_labels = strat_test_set[\"species\"]\n",
    "\n",
    "strat_test_set['species'].value_counts()"
   ]
  },
  {
   "cell_type": "markdown",
   "id": "5c883f55",
   "metadata": {},
   "source": [
    "## Búsqueda de hiperparámetros\n",
    "\n",
    "A continuación vamos a realizar la búsqueda exhaustiva de hiperparámetros utilizando GridsearchCV"
   ]
  },
  {
   "cell_type": "code",
   "execution_count": 114,
   "id": "f3f88e23",
   "metadata": {},
   "outputs": [],
   "source": [
    "def selectValuesForHyperparameter(initialValue, lastValue, jumps):\n",
    "    rv = []\n",
    "    for v in range(int(initialValue*100), int(lastValue*100),int(jumps*100)):\n",
    "        rv.append(float(v/100));\n",
    "    return rv "
   ]
  },
  {
   "cell_type": "code",
   "execution_count": 115,
   "id": "aca4c96a",
   "metadata": {},
   "outputs": [
    {
     "data": {
      "text/plain": [
       "{'C': 39.3, 'solver': 'lbfgs'}"
      ]
     },
     "execution_count": 115,
     "metadata": {},
     "output_type": "execute_result"
    }
   ],
   "source": [
    "cValues = selectValuesForHyperparameter(1.0, 50,0.1)\n",
    "\n",
    "params = {'C':cValues, 'solver':['newton-cg', 'lbfgs','sag']}\n",
    "softmax_reg = LogisticRegression(multi_class=\"multinomial\", max_iter=3000)\n",
    "clf_reg = GridSearchCV(softmax_reg, params, cv=10,\n",
    "                                scoring='neg_log_loss', #-> este scoring lo sacamos del Hands' On \n",
    "                                return_train_score=True)\n",
    "clf_reg.fit(train, train_labels)\n",
    "clf_reg.best_params_   "
   ]
  },
  {
   "cell_type": "markdown",
   "id": "4f854a93",
   "metadata": {},
   "source": [
    "## Train and cross validation\n",
    "\n",
    "Dividimos el dataset en _train_ y _test_ de forma estratificada sobre los tipos de plantas y luego entrenamos el modelo utilizando cross validation"
   ]
  },
  {
   "cell_type": "code",
   "execution_count": 129,
   "id": "a0243e6b",
   "metadata": {},
   "outputs": [],
   "source": [
    "#Entrenamos el modelo con los hiperparametros encontrados con GridsearchCV\n",
    "softmax_reg = LogisticRegressionCV(cv=10,Cs=[clf_reg.best_params_['C']],\n",
    "                                   solver=clf_reg.best_params_['solver'],\n",
    "                                   random_state=0,\n",
    "                                   scoring='neg_log_loss',\n",
    "                                   max_iter=3000,\n",
    "                                   multi_class='multinomial').fit(train, train_labels)\n"
   ]
  },
  {
   "cell_type": "markdown",
   "id": "4c13380a",
   "metadata": {},
   "source": [
    "Exploramos como alterantiva a la busqueda de hiperparámetros con GridsearchCV la utilizacion del atributo refit de LogisticRegressionCV"
   ]
  },
  {
   "cell_type": "code",
   "execution_count": 118,
   "id": "760b17ee",
   "metadata": {},
   "outputs": [
    {
     "name": "stderr",
     "output_type": "stream",
     "text": [
      "/home/bruno/.local/lib/python3.8/site-packages/sklearn/linear_model/_sag.py:328: ConvergenceWarning: The max_iter was reached which means the coef_ did not converge\n",
      "  warnings.warn(\"The max_iter was reached which means \"\n",
      "/home/bruno/.local/lib/python3.8/site-packages/sklearn/linear_model/_sag.py:328: ConvergenceWarning: The max_iter was reached which means the coef_ did not converge\n",
      "  warnings.warn(\"The max_iter was reached which means \"\n",
      "/home/bruno/.local/lib/python3.8/site-packages/sklearn/linear_model/_sag.py:328: ConvergenceWarning: The max_iter was reached which means the coef_ did not converge\n",
      "  warnings.warn(\"The max_iter was reached which means \"\n",
      "/home/bruno/.local/lib/python3.8/site-packages/sklearn/linear_model/_sag.py:328: ConvergenceWarning: The max_iter was reached which means the coef_ did not converge\n",
      "  warnings.warn(\"The max_iter was reached which means \"\n",
      "/home/bruno/.local/lib/python3.8/site-packages/sklearn/linear_model/_sag.py:328: ConvergenceWarning: The max_iter was reached which means the coef_ did not converge\n",
      "  warnings.warn(\"The max_iter was reached which means \"\n",
      "/home/bruno/.local/lib/python3.8/site-packages/sklearn/linear_model/_sag.py:328: ConvergenceWarning: The max_iter was reached which means the coef_ did not converge\n",
      "  warnings.warn(\"The max_iter was reached which means \"\n",
      "/home/bruno/.local/lib/python3.8/site-packages/sklearn/linear_model/_sag.py:328: ConvergenceWarning: The max_iter was reached which means the coef_ did not converge\n",
      "  warnings.warn(\"The max_iter was reached which means \"\n",
      "/home/bruno/.local/lib/python3.8/site-packages/sklearn/linear_model/_sag.py:328: ConvergenceWarning: The max_iter was reached which means the coef_ did not converge\n",
      "  warnings.warn(\"The max_iter was reached which means \"\n",
      "/home/bruno/.local/lib/python3.8/site-packages/sklearn/linear_model/_sag.py:328: ConvergenceWarning: The max_iter was reached which means the coef_ did not converge\n",
      "  warnings.warn(\"The max_iter was reached which means \"\n",
      "/home/bruno/.local/lib/python3.8/site-packages/sklearn/linear_model/_sag.py:328: ConvergenceWarning: The max_iter was reached which means the coef_ did not converge\n",
      "  warnings.warn(\"The max_iter was reached which means \"\n",
      "/home/bruno/.local/lib/python3.8/site-packages/sklearn/linear_model/_sag.py:328: ConvergenceWarning: The max_iter was reached which means the coef_ did not converge\n",
      "  warnings.warn(\"The max_iter was reached which means \"\n",
      "/home/bruno/.local/lib/python3.8/site-packages/sklearn/linear_model/_sag.py:328: ConvergenceWarning: The max_iter was reached which means the coef_ did not converge\n",
      "  warnings.warn(\"The max_iter was reached which means \"\n",
      "/home/bruno/.local/lib/python3.8/site-packages/sklearn/linear_model/_sag.py:328: ConvergenceWarning: The max_iter was reached which means the coef_ did not converge\n",
      "  warnings.warn(\"The max_iter was reached which means \"\n",
      "/home/bruno/.local/lib/python3.8/site-packages/sklearn/linear_model/_sag.py:328: ConvergenceWarning: The max_iter was reached which means the coef_ did not converge\n",
      "  warnings.warn(\"The max_iter was reached which means \"\n",
      "/home/bruno/.local/lib/python3.8/site-packages/sklearn/linear_model/_sag.py:328: ConvergenceWarning: The max_iter was reached which means the coef_ did not converge\n",
      "  warnings.warn(\"The max_iter was reached which means \"\n",
      "/home/bruno/.local/lib/python3.8/site-packages/sklearn/linear_model/_sag.py:328: ConvergenceWarning: The max_iter was reached which means the coef_ did not converge\n",
      "  warnings.warn(\"The max_iter was reached which means \"\n",
      "/home/bruno/.local/lib/python3.8/site-packages/sklearn/linear_model/_sag.py:328: ConvergenceWarning: The max_iter was reached which means the coef_ did not converge\n",
      "  warnings.warn(\"The max_iter was reached which means \"\n",
      "/home/bruno/.local/lib/python3.8/site-packages/sklearn/linear_model/_sag.py:328: ConvergenceWarning: The max_iter was reached which means the coef_ did not converge\n",
      "  warnings.warn(\"The max_iter was reached which means \"\n",
      "/home/bruno/.local/lib/python3.8/site-packages/sklearn/linear_model/_sag.py:328: ConvergenceWarning: The max_iter was reached which means the coef_ did not converge\n",
      "  warnings.warn(\"The max_iter was reached which means \"\n",
      "/home/bruno/.local/lib/python3.8/site-packages/sklearn/linear_model/_sag.py:328: ConvergenceWarning: The max_iter was reached which means the coef_ did not converge\n",
      "  warnings.warn(\"The max_iter was reached which means \"\n"
     ]
    },
    {
     "name": "stdout",
     "output_type": "stream",
     "text": [
      "el mejor hiperparametro encontrado para C es:[49.9 49.9 49.9]\n",
      "el mejor hiperparametro encontrado para l1 ratio es:[0.8 0.8 0.8]\n"
     ]
    }
   ],
   "source": [
    "l1Values = selectValuesForHyperparameter(0.1, 1, 0.1); \n",
    "cValues = selectValuesForHyperparameter(5.0, 50,0.1)\n",
    "#Este va a ser un modelo que usa penalidad elasticnet y aprovecha el refit para encontrar los mejores parametros\n",
    "softmax_reg_withElastic = LogisticRegressionCV(cv=10,Cs=cValues,solver='saga',\n",
    "                                   random_state=0,\n",
    "                                    penalty='elasticnet',\n",
    "                                   scoring='neg_log_loss',\n",
    "                                  max_iter=3000,\n",
    "                                  l1_ratios=l1Values,\n",
    "                                  multi_class='multinomial',\n",
    "                                refit=True).fit(train, train_labels)\n",
    "\n",
    "print(\"el mejor hiperparametro encontrado para C es:\"+str(softmax_reg_withElastic.C_))\n",
    "print(\"el mejor hiperparametro encontrado para l1 ratio es:\"+str(softmax_reg_withElastic.l1_ratio_))"
   ]
  },
  {
   "cell_type": "markdown",
   "id": "bdca5cf6",
   "metadata": {},
   "source": [
    "## Alternativa\n",
    "\n",
    "Entrenamos usando todas las features menos sepal_width"
   ]
  },
  {
   "cell_type": "code",
   "execution_count": 130,
   "id": "211e27e2",
   "metadata": {},
   "outputs": [],
   "source": [
    "#Entrenamos el modelo con los hiperparametros encontrados con GridsearchCV sin usar el atributo sepal width\n",
    "train_withoutSepalWidth = train.drop(\"sepal_width\",axis=1)\n",
    "reg_withoutSepalWidth = LogisticRegressionCV(cv=10,Cs=[clf_reg.best_params_['C']],\n",
    "                                   solver=clf_reg.best_params_['solver'],\n",
    "                                   random_state=0,\n",
    "                                   scoring='neg_log_loss',\n",
    "                                   max_iter=3000,\n",
    "                                   multi_class='multinomial').fit(train_withoutSepalWidth, train_labels)"
   ]
  },
  {
   "cell_type": "code",
   "execution_count": 120,
   "id": "c5640f76",
   "metadata": {},
   "outputs": [
    {
     "name": "stderr",
     "output_type": "stream",
     "text": [
      "/home/bruno/.local/lib/python3.8/site-packages/sklearn/linear_model/_sag.py:328: ConvergenceWarning: The max_iter was reached which means the coef_ did not converge\n",
      "  warnings.warn(\"The max_iter was reached which means \"\n",
      "/home/bruno/.local/lib/python3.8/site-packages/sklearn/linear_model/_sag.py:328: ConvergenceWarning: The max_iter was reached which means the coef_ did not converge\n",
      "  warnings.warn(\"The max_iter was reached which means \"\n",
      "/home/bruno/.local/lib/python3.8/site-packages/sklearn/linear_model/_sag.py:328: ConvergenceWarning: The max_iter was reached which means the coef_ did not converge\n",
      "  warnings.warn(\"The max_iter was reached which means \"\n",
      "/home/bruno/.local/lib/python3.8/site-packages/sklearn/linear_model/_sag.py:328: ConvergenceWarning: The max_iter was reached which means the coef_ did not converge\n",
      "  warnings.warn(\"The max_iter was reached which means \"\n",
      "/home/bruno/.local/lib/python3.8/site-packages/sklearn/linear_model/_sag.py:328: ConvergenceWarning: The max_iter was reached which means the coef_ did not converge\n",
      "  warnings.warn(\"The max_iter was reached which means \"\n",
      "/home/bruno/.local/lib/python3.8/site-packages/sklearn/linear_model/_sag.py:328: ConvergenceWarning: The max_iter was reached which means the coef_ did not converge\n",
      "  warnings.warn(\"The max_iter was reached which means \"\n",
      "/home/bruno/.local/lib/python3.8/site-packages/sklearn/linear_model/_sag.py:328: ConvergenceWarning: The max_iter was reached which means the coef_ did not converge\n",
      "  warnings.warn(\"The max_iter was reached which means \"\n",
      "/home/bruno/.local/lib/python3.8/site-packages/sklearn/linear_model/_sag.py:328: ConvergenceWarning: The max_iter was reached which means the coef_ did not converge\n",
      "  warnings.warn(\"The max_iter was reached which means \"\n",
      "/home/bruno/.local/lib/python3.8/site-packages/sklearn/linear_model/_sag.py:328: ConvergenceWarning: The max_iter was reached which means the coef_ did not converge\n",
      "  warnings.warn(\"The max_iter was reached which means \"\n",
      "/home/bruno/.local/lib/python3.8/site-packages/sklearn/linear_model/_sag.py:328: ConvergenceWarning: The max_iter was reached which means the coef_ did not converge\n",
      "  warnings.warn(\"The max_iter was reached which means \"\n"
     ]
    },
    {
     "name": "stdout",
     "output_type": "stream",
     "text": [
      "el mejor hiperparametro encontrado para C es:[49.9 49.9 49.9]\n",
      "el mejor hiperparametro encontrado para l1 ratio es:[0.8 0.8 0.8]\n"
     ]
    }
   ],
   "source": [
    "l1Values = selectValuesForHyperparameter(0.1, 1, 0.1); \n",
    "cValues = selectValuesForHyperparameter(5.0, 50,0.1)\n",
    "reg_withElastic_withoutSepalWidth = LogisticRegressionCV(cv=10,Cs=cValues,solver='saga',\n",
    "                                   random_state=0,\n",
    "                                    penalty='elasticnet',\n",
    "                                   scoring='neg_log_loss',\n",
    "                                  max_iter=3000,\n",
    "                                  l1_ratios=l1Values,\n",
    "                                  multi_class='multinomial',\n",
    "                                refit=True).fit(train_withoutSepalWidth, train_labels)\n",
    "\n",
    "print(\"el mejor hiperparametro encontrado para C es:\"+str(softmax_reg_withElastic.C_))\n",
    "print(\"el mejor hiperparametro encontrado para l1 ratio es:\"+str(softmax_reg_withElastic.l1_ratio_))"
   ]
  },
  {
   "cell_type": "code",
   "execution_count": 131,
   "id": "d9c2b98c",
   "metadata": {},
   "outputs": [
    {
     "data": {
      "text/plain": [
       "<sklearn.metrics._plot.confusion_matrix.ConfusionMatrixDisplay at 0x7f20b9151040>"
      ]
     },
     "execution_count": 131,
     "metadata": {},
     "output_type": "execute_result"
    },
    {
     "data": {
      "image/png": "[encoded data removed]",
      "text/plain": [
       "<Figure size 432x288 with 2 Axes>"
      ]
     },
     "metadata": {
      "needs_background": "light"
     },
     "output_type": "display_data"
    },
    {
     "data": {
      "image/png": "[encoded data removed]",
      "text/plain": [
       "<Figure size 432x288 with 2 Axes>"
      ]
     },
     "metadata": {
      "needs_background": "light"
     },
     "output_type": "display_data"
    },
    {
     "data": {
      "image/png": "[encoded data removed]",
      "text/plain": [
       "<Figure size 432x288 with 2 Axes>"
      ]
     },
     "metadata": {
      "needs_background": "light"
     },
     "output_type": "display_data"
    },
    {
     "data": {
      "image/png": "[encoded data removed]",
      "text/plain": [
       "<Figure size 432x288 with 2 Axes>"
      ]
     },
     "metadata": {
      "needs_background": "light"
     },
     "output_type": "display_data"
    }
   ],
   "source": [
    "x_test = strat_test_set.iloc[:,0:4]\n",
    "y_test = strat_test_set.iloc[:,4]\n",
    "x_test_withoutSepalWidth = strat_test_set.drop(\"sepal_width\",axis=1).iloc[:,0:3]\n",
    "\n",
    "plot_confusion_matrix(softmax_reg, x_test, y_test) \n",
    "plot_confusion_matrix(softmax_reg_withElastic, x_test, y_test) \n",
    "plot_confusion_matrix(reg_withoutSepalWidth, x_test_withoutSepalWidth, y_test) \n",
    "plot_confusion_matrix(reg_withElastic_withoutSepalWidth, x_test_withoutSepalWidth, y_test) "
   ]
  },
  {
   "cell_type": "code",
   "execution_count": 126,
   "id": "f1fbc962",
   "metadata": {},
   "outputs": [],
   "source": [
    "especies = {0: \"setosa\", 1: \"versicolor\", 2: \"virginica\"}"
   ]
  },
  {
   "cell_type": "code",
   "execution_count": 122,
   "id": "27012bc0",
   "metadata": {},
   "outputs": [
    {
     "data": {
      "text/plain": [
       "array([[9.30483452e-01, 6.95164962e-02, 5.18104701e-08]])"
      ]
     },
     "execution_count": 122,
     "metadata": {},
     "output_type": "execute_result"
    }
   ],
   "source": [
    "# predicción de la clase de pertenencia\n",
    "softmax_reg.predict([[5, 3, 2, 1]])\n",
    "# pb de pertenencia a cada clase\n",
    "softmax_reg.predict_proba([[5, 3, 2, 1]])"
   ]
  },
  {
   "cell_type": "code",
   "execution_count": 135,
   "id": "0707da4a",
   "metadata": {},
   "outputs": [
    {
     "name": "stdout",
     "output_type": "stream",
     "text": [
      "Prueba de prediccion para un iris \n",
      " con sépalo de largo 5 y ancho 3 \n",
      " y con pétalo de largo 2 y ancho 1\n",
      "\n",
      "Predice:setosa\n",
      "\n",
      "Con probabilidad para cada clase:\n",
      "[[9.84849438e-01 1.51505624e-02 3.87141815e-12]]\n",
      "----------------------------\n",
      "\n",
      "Usando penalidad ElasticNet predice:setosa\n",
      "\n",
      "Con probabilidad para cada clase:\n",
      "[[9.84849438e-01 1.51505624e-02 3.87141815e-12]]\n",
      "----------------------------\n",
      "\n",
      "Sin usar sepal width predice:setosa\n",
      "\n",
      "Con probabilidad para cada clase:\n",
      "[[9.71166535e-01 2.88334645e-02 4.42193486e-12]]\n",
      "----------------------------\n",
      "\n",
      "Sin usar sepal width con penalidad ElasticNet predice:setosa\n",
      "\n",
      "Con probabilidad para cada clase:\n",
      "[[9.23498946e-01 7.65010231e-02 3.04869623e-08]]\n"
     ]
    }
   ],
   "source": [
    "# predicción de la clase de pertenencia\n",
    "print(\"Prueba de prediccion para un iris \\n con sépalo de largo 5 y ancho 3 \\n y con pétalo de largo 2 y ancho 1\\n\")\n",
    "print(\"Predice:\"+softmax_reg.predict([[5, 3, 2, 1]])[0]+'\\n')\n",
    "# pb de pertenencia a cada clase\n",
    "print(\"Con probabilidad para cada clase:\")\n",
    "print(softmax_reg_withElastic.predict_proba([[5, 3, 2, 1]]))\n",
    "print(\"----------------------------\")\n",
    "print(\"\\nUsando penalidad ElasticNet predice:\"+softmax_reg_withElastic.predict([[5, 3, 2, 1]])[0]+'\\n')\n",
    "# pb de pertenencia a cada clase\n",
    "print(\"Con probabilidad para cada clase:\")\n",
    "print(softmax_reg_withElastic.predict_proba([[5, 3, 2, 1]]))\n",
    "print(\"----------------------------\")\n",
    "print(\"\\nSin usar sepal width predice:\"+reg_withoutSepalWidth.predict([[5, 2, 1]])[0]+'\\n')\n",
    "# pb de pertenencia a cada clase\n",
    "print(\"Con probabilidad para cada clase:\")\n",
    "print(reg_withoutSepalWidth.predict_proba([[5, 2, 1]]))\n",
    "print(\"----------------------------\")\n",
    "print(\"\\nSin usar sepal width con penalidad ElasticNet predice:\"+reg_withElastic_withoutSepalWidth.predict([[5, 2, 1]])[0]+'\\n')\n",
    "# pb de pertenencia a cada clase\n",
    "print(\"Con probabilidad para cada clase:\")\n",
    "print(reg_withElastic_withoutSepalWidth.predict_proba([[5, 2, 1]]))"
   ]
  }
 ],
 "metadata": {
  "kernelspec": {
   "display_name": "Python 3",
   "language": "python",
   "name": "python3"
  },
  "language_info": {
   "codemirror_mode": {
    "name": "ipython",
    "version": 3
   },
   "file_extension": ".py",
   "mimetype": "text/x-python",
   "name": "python",
   "nbconvert_exporter": "python",
   "pygments_lexer": "ipython3",
   "version": "3.8.5"
  }
 },
 "nbformat": 4,
 "nbformat_minor": 5
}
